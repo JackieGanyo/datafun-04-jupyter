{
 "cells": [
  {
   "cell_type": "markdown",
   "metadata": {},
   "source": [
    "# Title:  Datafun-04-Jupyter: Data Stories with Jupyter\n",
    "\n",
    "## Author:  Jackie Ganyo\n",
    "\n",
    "**Date:**   May 24, 2024\n",
    "\n",
    "**Project Description:**  The following provides an exploratory analysis and data story presentation of the iris.csv dataset. VS Code, python virtual environment, and Jupyter notebook are used during this project. \n",
    "\n",
    "## **Iris Project** \n",
    "### Imports\n",
    "Importing necessary packages for python code to run properly. This is typically done before any other python code is entered. "
   ]
  },
  {
   "cell_type": "code",
   "execution_count": null,
   "metadata": {},
   "outputs": [],
   "source": [
    "import matplotlib.pyplot as plt\n",
    "import pandas as pd\n",
    "import seaborn as sns"
   ]
  },
  {
   "cell_type": "markdown",
   "metadata": {},
   "source": [
    "### Loading the data set:  \n",
    "The iris.csv dataset is used for this project and loads into a data frame (df) by the following code. "
   ]
  },
  {
   "cell_type": "code",
   "execution_count": null,
   "metadata": {},
   "outputs": [],
   "source": [
    "#Load the Iris dataset into a dataframe\n",
    "df=sns.load_dataset('iris')\n",
    "\n",
    "#Inspect first rows of dataframe \n",
    "print(df.head())"
   ]
  },
  {
   "cell_type": "markdown",
   "metadata": {},
   "source": [
    "### Understanding the dataset\n",
    "Display the first 10 rows of the dataframe, check the shape, and display the data types of each column using df.head(10), df shape, and df.dtypes"
   ]
  },
  {
   "cell_type": "code",
   "execution_count": null,
   "metadata": {},
   "outputs": [],
   "source": [
    "#Display first 10 lines of dataframe, check shape, & list datatypes\n",
    "print(df.head(10))\n",
    "print(df.shape)\n",
    "print(df.dtypes)"
   ]
  },
  {
   "cell_type": "markdown",
   "metadata": {},
   "source": [
    "### Descriptive Statistics\n",
    "This section will show the descriptive statistics for the iris dataframe including average, quartiles, minimum, maximum, and count for the dataset."
   ]
  },
  {
   "cell_type": "code",
   "execution_count": null,
   "metadata": {},
   "outputs": [],
   "source": [
    "print(df.describe())"
   ]
  },
  {
   "cell_type": "markdown",
   "metadata": {},
   "source": [
    "### Initial Data Distribution for Numerical Columns\n",
    "Choose a numerical column and use df['column_name'].hist() to plot a histogram for that specific column.  To show all histgrams for all numerical columns use df.hist()."
   ]
  },
  {
   "cell_type": "code",
   "execution_count": null,
   "metadata": {},
   "outputs": [],
   "source": [
    "#Inspect histogram for numerical column \"sepal_width\"\n",
    "\n",
    "df['sepal_width'].hist()\n",
    "\n",
    "#Inspect histogram for all numerical column in dataframe\n",
    "df.hist()\n",
    "\n",
    "#show all plots\n",
    "plt.show()"
   ]
  },
  {
   "cell_type": "markdown",
   "metadata": {},
   "source": [
    "### Observations:\n",
    " One hundred and fifty entries exist in the iris dataset with information on sepal length, sepal width, petal length and petal width.  \n",
    " Based upon the histograms, sepal width appears as normal distribution with slightly fewer entries at the high end of the width measurements.  Sepal length distribution has three peaks at 4.5, 5.5, and 6.25 showing that the majority of entries are in the lower two-thirds of the length measurements. Both petal length and petal width show distributions show breaks in the dataset.  Petal length shows two distinct groups from 0-2.1 and then from 2.5 to 6.5 whereas petal width has just a severe decline in entries at the .75 mark. \n",
    "Looking at the descriptive stats for the numerical data, one can see that sepal length and sepal width have relatively low spread (0.828, 0.436 respectively) in the data, while petal length and petal width show a large spread (1.765, 1.20 respectively) in the data.  The average lengths are both greater than the average widths for sepal and petal. "
   ]
  },
  {
   "cell_type": "markdown",
   "metadata": {},
   "source": [
    "### Initial Data distrubutions for categorical columns\n",
    "Choose a categorical column and use df['coumn_name'].value_counts() to display the count of each category.  Use a loop to show the value counts for all categorial columns. "
   ]
  },
  {
   "cell_type": "code",
   "execution_count": null,
   "metadata": {},
   "outputs": [],
   "source": [
    "#Inspect value countys by categorical column\n",
    "df['species'].value_counts()\n",
    "\n",
    "#Inspect value counts for all categorical columns\n",
    "df.value_counts() \n",
    "\n",
    "#Inspect value counts for all cateforical columns\n",
    "for col in df.select_dtypes(include=['object', 'category']).columns: \n",
    "    #Display count plot\n",
    "    sns.countplot(x=col, data=df)"
   ]
  }
 ],
 "metadata": {
  "kernelspec": {
   "display_name": ".venv",
   "language": "python",
   "name": "python3"
  },
  "language_info": {
   "codemirror_mode": {
    "name": "ipython",
    "version": 3
   },
   "file_extension": ".py",
   "mimetype": "text/x-python",
   "name": "python",
   "nbconvert_exporter": "python",
   "pygments_lexer": "ipython3",
   "version": "3.12.3"
  }
 },
 "nbformat": 4,
 "nbformat_minor": 2
}
