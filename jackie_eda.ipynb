{
 "cells": [
  {
   "cell_type": "markdown",
   "metadata": {},
   "source": [
    "#**Title:**  Data Stories with Jupyter\n",
    "\n",
    "##**Author:**  Jackie Ganyo\n",
    "\n",
    "**Date:**  May 24, 2024\n",
    "\n",
    "**Project Description:**  The following provides an exploratory analysis and data story presentation of the iris.csv dataset. "
   ]
  },
  {
   "cell_type": "code",
   "execution_count": null,
   "metadata": {},
   "outputs": [],
   "source": [
    "'''Import Dependencies for program'''\n",
    "import matplotlib.pyplot as plt\n",
    "import pandas as pd\n",
    "import seaborn as sns\n",
    "\n",
    "#Load the dataset and store it as a dataframe\n",
    "df=sns.load_dataset('iris')"
   ]
  }
 ],
 "metadata": {
  "kernelspec": {
   "display_name": ".venv",
   "language": "python",
   "name": "python3"
  },
  "language_info": {
   "name": "python",
   "version": "3.12.3"
  }
 },
 "nbformat": 4,
 "nbformat_minor": 2
}
