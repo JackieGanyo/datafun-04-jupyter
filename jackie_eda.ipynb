{
 "cells": [
  {
   "cell_type": "markdown",
   "metadata": {},
   "source": [
    "#**Title:**  Datafun-04-Jupyter: Data Stories with Jupyter\n",
    "\n",
    "##**Author:**  Jackie Ganyo\n",
    "\n",
    "**Date:**  May 24, 2024\n",
    "\n",
    "**Project Description:**  The following provides an exploratory analysis and data story presentation of the iris.csv dataset. VS Code, python virtual environment, and Jupyter notebook are used during this project. \n",
    "\n",
    "##**Iris Project** \n",
    "### Imports\n",
    "Importing necessary packages for python code to run properly. This is typically done before any other python code is entered. "
   ]
  },
  {
   "cell_type": "code",
   "execution_count": null,
   "metadata": {},
   "outputs": [],
   "source": [
    "import matplotlib.pyplot as plt\n",
    "import pandas as pd\n",
    "import seaborn as sns"
   ]
  },
  {
   "cell_type": "markdown",
   "metadata": {},
   "source": [
    "### Loading the data set:  \n",
    "The iris.csv dataset is used for this project and loads into a data frame (df) by the following code. "
   ]
  },
  {
   "cell_type": "code",
   "execution_count": null,
   "metadata": {},
   "outputs": [],
   "source": [
    "#Load the Iris dataset into a dataframe\n",
    "df=sns.load_dataset('iris')\n",
    "\n",
    "#Inspect first rows of dataframe \n",
    "print(df.head())"
   ]
  },
  {
   "cell_type": "markdown",
   "metadata": {},
   "source": [
    "### Understanding the dataset\n",
    "Display the first 10 rows of the dataframe, check the shape, and display the data types of each column using df.head(10), df shape, and df.dtypes"
   ]
  },
  {
   "cell_type": "code",
   "execution_count": null,
   "metadata": {},
   "outputs": [],
   "source": [
    "#Display first 10 lines of dataframe, check shape, & list datatypes\n",
    "print(df.head(10))\n",
    "print(df.shape)\n",
    "print(df.dtypes)"
   ]
  },
  {
   "cell_type": "markdown",
   "metadata": {},
   "source": [
    "### Descriptive Statistics\n",
    "This section will show the descriptive statistics for the iris dataframe including average, quartiles, minimum, maximum, and count for the dataset."
   ]
  },
  {
   "cell_type": "code",
   "execution_count": null,
   "metadata": {},
   "outputs": [],
   "source": [
    "print(df.describe())"
   ]
  },
  {
   "cell_type": "markdown",
   "metadata": {},
   "source": []
  }
 ],
 "metadata": {
  "kernelspec": {
   "display_name": ".venv",
   "language": "python",
   "name": "python3"
  },
  "language_info": {
   "name": "python",
   "version": "3.12.3"
  }
 },
 "nbformat": 4,
 "nbformat_minor": 2
}
